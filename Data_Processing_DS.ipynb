{
 "cells": [
  {
   "cell_type": "code",
   "execution_count": null,
   "id": "a07d6a71",
   "metadata": {},
   "outputs": [],
   "source": [
    "import json\n",
    "import numpy as np\n",
    "import pandas as pd\n",
    "from haversine import haversine\n",
    "import csv"
   ]
  },
  {
   "cell_type": "code",
   "execution_count": null,
   "id": "bf8e50a3",
   "metadata": {},
   "outputs": [],
   "source": [
    "def clusterin(cluster_lat, cluster_lon, location_lat, location_lon, cluster_max,cluster_number):\n",
    "  cluster_center = (cluster_lat, cluster_lon)\n",
    "  location = (location_lat, location_lon)\n",
    "  # 클러스터에 있는지 아닌지 확인해 주는 함수 (클러스터의 중심과, 현재 위치와의 거리를 계산해서 cluster 의 크기로 지정한 maxmean인지 확인) \n",
    "  #클러스터에 포함된다면 몇번 클러스터인지 반환\n",
    "  if haversine(cluster_center, location) < cluster_max:\n",
    "    return int(cluster_number)\n",
    "  else :\n",
    "    return -1"
   ]
  },
  {
   "cell_type": "code",
   "execution_count": null,
   "id": "d5574892",
   "metadata": {},
   "outputs": [],
   "source": [
    "# 리스트 파일이 있는 경로\n",
    "list_dir = \"./list/list_cdy\""
   ]
  },
  {
   "cell_type": "code",
   "execution_count": null,
   "id": "99eefdf1",
   "metadata": {},
   "outputs": [],
   "source": [
    "# 만들어진 클러스터의 정보 가져오기\n",
    "with open(\"./cdy/results/integratedJSON/Integrated_cdy_Clustering_Result.json\") as st_json:\n",
    "    st_python = json.load(st_json)"
   ]
  },
  {
   "cell_type": "code",
   "execution_count": null,
   "id": "1514c51d",
   "metadata": {},
   "outputs": [],
   "source": [
    "number =[]\n",
    "lat =[]\n",
    "lon =[]\n",
    "max1 =[]\n",
    "\n",
    "for clusters in st_python:\n",
    "    number.append(clusters[\"cluster\"])\n",
    "    lat.append(clusters[\"latitude\"])\n",
    "    lon.append(clusters[\"longitude\"])\n",
    "    max1.append(clusters[\"maxDistance\"])\n",
    "    i += 1"
   ]
  },
  {
   "cell_type": "code",
   "execution_count": null,
   "id": "062fbd47",
   "metadata": {},
   "outputs": [],
   "source": [
    "'''\n",
    "cluster_info = pd.DataFrame({\n",
    "    \n",
    "            \"cluster_number\":number,\n",
    "            \"latitude\":lat,\n",
    "            \"longitude\":lon,\n",
    "            \"maxDistance\":max1\n",
    "})\n",
    "\n",
    "print(cluster_info)\n",
    "'''"
   ]
  },
  {
   "cell_type": "code",
   "execution_count": null,
   "id": "69f246f1",
   "metadata": {},
   "outputs": [],
   "source": [
    "#numpy로 받아오는 방법 \n",
    "#일단은 pandas로 해볼것 \n",
    "cluster_info = np.zeros((100,5))\n",
    "cluster_number = 0\n",
    "for clusters in st_python:\n",
    "    cluster_info[cluster_number][0]= int(clusters[\"cluster\"])\n",
    "    cluster_info[cluster_number][1] = clusters[\"latitude\"]\n",
    "    cluster_info[cluster_number][2] = clusters[\"longitude\"]\n",
    "    cluster_info[cluster_number][3] = clusters[\"maxDistance\"]\n",
    "    cluster_number += 1\n",
    "    cluster_info.resize(cluster_number+1,4)\n",
    "\n",
    "print(cluster_number)"
   ]
  },
  {
   "cell_type": "code",
   "execution_count": null,
   "id": "9f628efa",
   "metadata": {},
   "outputs": [],
   "source": [
    "# list를 이용하여 위치 데이터 받아오기\n",
    "list = open(list_dir)\n",
    "list_line = list.read().split(\"\\n\")\n",
    "\n",
    "del list_line[-1]\n",
    "print(list_line)"
   ]
  },
  {
   "cell_type": "code",
   "execution_count": null,
   "id": "72e24430",
   "metadata": {},
   "outputs": [],
   "source": [
    "########### read the location data \n",
    "location = np.zeros((50,3))\n",
    "\n",
    "k = 0\n",
    "for i in list_line:\n",
    "    trace = open(i).read().split()\n",
    "    for j in range(0,len(trace)-10):\n",
    "        if j % 5 == 2:   \n",
    "            location[k][0] = np.int(trace[j][0:10])\n",
    "            location[k][1] = np.float(trace[j+1])\n",
    "            location[k][2] = np.float(trace[j+2])\n",
    "            k = k+1\n",
    "            location.resize(k+1,3)\n",
    "\n",
    "location.resize(k,3)\n",
    "print(location)"
   ]
  },
  {
   "cell_type": "code",
   "execution_count": null,
   "id": "6d829fe3",
   "metadata": {},
   "outputs": [],
   "source": [
    "for j in range(k):\n",
    "    print(location[j][0])\n",
    "    for i in range(cluster_number):\n",
    "        now_cluster = clusterin(cluster_info[i][1],cluster_info[i][2], location[j][1],location[j][2], cluster_info[i][3],cluster_info[i][0])\n",
    "        if now_cluster != -1:\n",
    "            print('in cluster: ', now_cluster)\n",
    "            break\n",
    "    if now_cluster == -1:\n",
    "        print('not in cluster')"
   ]
  },
  {
   "cell_type": "code",
   "execution_count": null,
   "id": "679325c2",
   "metadata": {},
   "outputs": [],
   "source": [
    "#이제부터 클러스터에 들어갔을때   , 나왔을때 시간을 적어줘보자 \n",
    "# 초기값 \n",
    "before_cluster = -1 \n",
    "for j in range(k):\n",
    "    #print(location[j][0], before_cluster)\n",
    "    for i in range(cluster_number):\n",
    "        now_cluster = clusterin(cluster_info[i][1],cluster_info[i][2], location[j][1],location[j][2], cluster_info[i][3],cluster_info[i][0])\n",
    "        if now_cluster != -1: \n",
    "            if before_cluster == now_cluster:\n",
    "                #print('in_cluster',now_cluster,location[j][0])\n",
    "                break\n",
    "            elif before_cluster == -1:\n",
    "                print('in', now_cluster, location[j][0] )\n",
    "                \n",
    "            else :\n",
    "                print('out', before_cluster ,location[j][0])\n",
    "                print('in', now_cluster, location[j][0]  )\n",
    "                \n",
    "            before_cluster = now_cluster\n",
    "            break\n",
    "        else:\n",
    "            continue\n",
    "    if now_cluster == -1 and before_cluster != -1:\n",
    "        print('out', before_cluster, location[j][0] )\n",
    "        before_cluster = now_cluster\n",
    "    \n",
    "                   "
   ]
  },
  {
   "cell_type": "code",
   "execution_count": null,
   "id": "b7a31cf2",
   "metadata": {},
   "outputs": [],
   "source": [
    "time = []\n",
    "cluster_num_info = []\n",
    "cluster_inout =[]  \n",
    "\n",
    "before_cluster = -1 \n",
    "for j in range(k):\n",
    "    for i in range(cluster_number):\n",
    "        now_cluster = clusterin(cluster_info[i][1],cluster_info[i][2], location[j][1],location[j][2], cluster_info[i][3],cluster_info[i][0])\n",
    "        if now_cluster != -1: \n",
    "            if before_cluster == now_cluster:\n",
    "                break\n",
    "            elif before_cluster == -1:\n",
    "                time.append(location[j][0])\n",
    "                cluster_num_info.append(now_cluster)\n",
    "                cluster_inout.append('in')\n",
    "            else :\n",
    "                time.append(location[j][0])\n",
    "                cluster_num_info.append(before_cluster)\n",
    "                cluster_inout.append('out')\n",
    "                time.append(location[j][0])\n",
    "                cluster_num_info.append(now_cluster)\n",
    "                cluster_inout.append('in')\n",
    "            before_cluster = now_cluster\n",
    "            break\n",
    "        else:\n",
    "            continue\n",
    "    if now_cluster == -1 and before_cluster != -1:\n",
    "        time.append(location[j][0])\n",
    "        cluster_num_info.append(before_cluster)\n",
    "        cluster_inout.append('out')\n",
    "        before_cluster = now_cluster\n"
   ]
  },
  {
   "cell_type": "code",
   "execution_count": null,
   "id": "c8d3dd46",
   "metadata": {},
   "outputs": [],
   "source": [
    "cluster_visit = pd.DataFrame({\n",
    "            \n",
    "            \"time\":time,\n",
    "            \"cluster\":cluster_num_info,\n",
    "            \"in_out\":cluster_inout\n",
    "            \n",
    "})\n",
    "print(cluster_visit)"
   ]
  },
  {
   "cell_type": "code",
   "execution_count": null,
   "id": "c798e0ba",
   "metadata": {},
   "outputs": [],
   "source": [
    "cluster_visit.to_csv('cluster_visit.csv', index=False, encoding='cp949')"
   ]
  },
  {
   "cell_type": "code",
   "execution_count": null,
   "id": "0f55f444",
   "metadata": {},
   "outputs": [],
   "source": []
  }
 ],
 "metadata": {
  "kernelspec": {
   "display_name": "Python 3",
   "language": "python",
   "name": "python3"
  },
  "language_info": {
   "codemirror_mode": {
    "name": "ipython",
    "version": 3
   },
   "file_extension": ".py",
   "mimetype": "text/x-python",
   "name": "python",
   "nbconvert_exporter": "python",
   "pygments_lexer": "ipython3",
   "version": "3.8.10"
  }
 },
 "nbformat": 4,
 "nbformat_minor": 5
}
